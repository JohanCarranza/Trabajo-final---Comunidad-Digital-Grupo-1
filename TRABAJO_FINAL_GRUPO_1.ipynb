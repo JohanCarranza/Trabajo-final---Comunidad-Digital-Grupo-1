{
  "nbformat": 4,
  "nbformat_minor": 0,
  "metadata": {
    "colab": {
      "provenance": []
    },
    "kernelspec": {
      "name": "python3",
      "display_name": "Python 3"
    },
    "language_info": {
      "name": "python"
    }
  },
  "cells": [
    {
      "cell_type": "code",
      "execution_count": null,
      "metadata": {
        "id": "ge9Tagq5GV-4"
      },
      "outputs": [],
      "source": [
        "import random\n",
        "\n",
        "def crearM(N,M):\n",
        "  A=[]\n",
        "  for f in range(1, N+1):\n",
        "    VF=[]\n",
        "    for c in range(1, M+1):\n",
        "      num=random.randint(0,1)\n",
        "      if num ==0:\n",
        "        letra=\"-\"\n",
        "      else:\n",
        "        letra=\"X\"\n",
        "      VF.append(letra)\n",
        "    A.append(VF)\n",
        "  return A\n",
        "\n",
        "def imprimirM(matriz):\n",
        "  for f in range(0, len(matriz)):\n",
        "    for c in range(0, len(matriz[f])):\n",
        "      print(matriz[f][c], end=\" \")\n",
        "    print()\n",
        "\n",
        "############\n",
        "tamF=8\n",
        "tamC=20\n",
        "B=crearM(tamF, tamC)\n",
        "imprimirM(B)\n",
        "\n",
        "X=int(input(\"Escoge el número de columna\"))\n",
        "Y=int(input(\"Escoge el número de fila\"))\n",
        "\n",
        "if B[Y][X]==\"-\":\n",
        "  print(\"Asiento libre\")\n",
        "else:\n",
        "  print(\"Elija otro asiento\")"
      ]
    }
  ]
}